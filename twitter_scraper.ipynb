{
 "metadata": {
  "language_info": {
   "codemirror_mode": {
    "name": "ipython",
    "version": 3
   },
   "file_extension": ".py",
   "mimetype": "text/x-python",
   "name": "python",
   "nbconvert_exporter": "python",
   "pygments_lexer": "ipython3",
   "version": "3.8.3-final"
  },
  "orig_nbformat": 2,
  "kernelspec": {
   "name": "Python 3.8.3 64-bit ('base': conda)",
   "display_name": "Python 3.8.3 64-bit ('base': conda)",
   "metadata": {
    "interpreter": {
     "hash": "ce483ef3f3f15830cc71af6662324550274ded09d10a1a693bdaad1eb103022d"
    }
   }
  }
 },
 "nbformat": 4,
 "nbformat_minor": 2,
 "cells": [
  {
   "source": [
    "# Twitter Scraper\n",
    "A Twitter Scraper using the Selenium Library to scrape 'Twitter' Data related to the DSiRBS Research Project. \n",
    "\n",
    "\n",
    "<*developed by Jonas-Mika Senghaas (DS 2020)*>\n",
    "<*27.10.2020*>"
   ],
   "cell_type": "markdown",
   "metadata": {}
  },
  {
   "source": [
    "---\n",
    "## To-Do's \n",
    "- [ ]  Only Scrape tweets with data from corona outbreak, ie day of lockdwon in Denmark: (2020-03-13)\n",
    "- [x]  Make the Looping work\n",
    "- [x]  Adjust the loading times for Logging into Twitter\n",
    "- [x]  Make the Output File of the type: \"scraping: {searchterm}\"\n",
    "- [x]  Let the Program Enter the Login Credentials\n",
    "---"
   ],
   "cell_type": "markdown",
   "metadata": {}
  },
  {
   "source": [
    "## Imports + Functions\n",
    "---\n",
    "We need several imports to make the program work. Each of the imports is explained in a comment next to it. The cell also contains the central function, that is called to get all necessary data from a tweet. We will use it in the actual Scraping Cell."
   ],
   "cell_type": "markdown",
   "metadata": {}
  },
  {
   "cell_type": "code",
   "execution_count": null,
   "metadata": {},
   "outputs": [],
   "source": [
    "import csv # used to ouput the data into a csv file (that we can analyze)\n",
    "from getpass import getpass # used to secretly type in the twitter password\n",
    "from time import sleep  # used to delay the scraping to allow for scrolling and secure for DDOS blocking of webpage\n",
    "\n",
    "# selenium library to navigate browser and scrape twitter\n",
    "from selenium.webdriver.common.keys import Keys\n",
    "from selenium.common.exceptions import NoSuchElementException\n",
    "from selenium.webdriver import Chrome # we use the chrome browser for the twitter webscraping \n",
    "\n",
    "\n",
    "def get_tweet_data(card):\n",
    "    \"\"\"\n",
    "    Extract data from tweet card using xpath searches for each important element of the tweet\n",
    "    \"\"\"\n",
    "    username = card.find_element_by_xpath('.//span').text\n",
    "    try: # since advertised post dont have a handle and a postdate, we can easily filter them out using error handling\n",
    "        handle = card.find_element_by_xpath('.//span[contains(text(), \"@\")]').text\n",
    "    except NoSuchElementException:\n",
    "        return\n",
    "    \n",
    "    try:\n",
    "        postdate = card.find_element_by_xpath('.//time').get_attribute('datetime')\n",
    "    except NoSuchElementException:\n",
    "        return\n",
    "\n",
    "    comment = card.find_element_by_xpath('.//div[2]/div[2]/div[1]').text\n",
    "    responding = card.find_element_by_xpath('.//div[2]/div[2]/div[2]').text\n",
    "    text = comment + responding\n",
    "    reply_cnt = card.find_element_by_xpath('.//div[@data-testid=\"reply\"]').text\n",
    "    retweet_cnt = card.find_element_by_xpath('.//div[@data-testid=\"retweet\"]').text\n",
    "    like_cnt = card.find_element_by_xpath('.//div[@data-testid=\"like\"]').text\n",
    "\n",
    "    # concatenate all the scraped data into a tuple return it\n",
    "    tweet = (username, handle, postdate, text, reply_cnt, retweet_cnt, like_cnt)\n",
    "    \n",
    "    return tweet"
   ]
  },
  {
   "source": [
    "## Preparing for Scraping\n",
    "### Log into Twitter and Navigate to desired website to scrape\n",
    "____\n",
    "Executing this block, will ask the user to input *username*, *password* (via getpass) and the *searchterm* that wants to be scraped and login the user with the inserted credentials and navigate to the webpage, that contains all the tweets related to the searchterm sorted by Latest."
   ],
   "cell_type": "markdown",
   "metadata": {}
  },
  {
   "cell_type": "code",
   "execution_count": null,
   "metadata": {},
   "outputs": [],
   "source": [
    "# get user inputs\n",
    "my_username = input('Enter your Twitter Username: ')\n",
    "my_password = getpass()\n",
    "searchterm = input('The tweets of which searchterm do you want to scrape?: ')\n",
    "\n",
    "# instantiate a driver object from seleniums subpackage webdriver using the Chrome class    x\n",
    "PATH = \"../webdrivers/chromedriver\"\n",
    "driver = Chrome(PATH)\n",
    "\n",
    "driver.get('https://twitter.com/login/') # navigate to twitter login page using 'get' module\n",
    "sleep(2)\n",
    "\n",
    "# enter the username and password\n",
    "username = driver.find_element_by_xpath('//input[@name=\"session[username_or_email]\"]')\n",
    "username.send_keys(my_username)\n",
    "password = driver.find_element_by_xpath('//input[@name=\"session[password]\"]') # enter the password\n",
    "password.send_keys(my_password)\n",
    "password.send_keys(Keys.RETURN) # login using the login button (similar action than to just press enter)\n",
    "sleep(2)\n",
    "\n",
    "# enter the searchterm \n",
    "search_input = driver.find_element_by_xpath('//input[@aria-label=\"Search query\"]')\n",
    "search_input.send_keys(searchterm)\n",
    "search_input.send_keys(Keys.RETURN)\n",
    "sleep(2)\n",
    "\n",
    "driver.find_element_by_link_text('Latest').click()\n",
    "sleep(1)"
   ]
  },
  {
   "source": [
    "## Scraping the Data\n",
    "### Runnning while loop until end of page and store all tweet data in list\n",
    "---\n",
    "When this block is executed, the scraper continusely scrapes all tweets on the page loaded with the inserted searchterm. "
   ],
   "cell_type": "markdown",
   "metadata": {}
  },
  {
   "cell_type": "code",
   "execution_count": null,
   "metadata": {},
   "outputs": [],
   "source": [
    "# get all tweets on the page\n",
    "\n",
    "data = [] # this is the list that will contain the data for each twitter as a tuple\n",
    "tweet_ids = set() # we use this to make sure that our dataset consist of unique tweets\n",
    "last_position = driver.execute_script(\"return window.pageYOffset;\")\n",
    "scrolling = True\n",
    "\n",
    "while scrolling:\n",
    "    page_cards = driver.find_elements_by_xpath('//div[@data-testid=\"tweet\"]')\n",
    "    for card in page_cards[-15:]:\n",
    "        tweet = get_tweet_data(card)\n",
    "        if tweet:\n",
    "            tweet_id = ''.join(tweet)\n",
    "            if tweet_id not in tweet_ids:\n",
    "                tweet_ids.add(tweet_id)\n",
    "                data.append(tweet)\n",
    "            \n",
    "    scroll_attempt = 0\n",
    "    while True:\n",
    "        # check scroll position\n",
    "        driver.execute_script('window.scrollTo(0, document.body.scrollHeight);')\n",
    "        sleep(3)\n",
    "        curr_position = driver.execute_script(\"return window.pageYOffset;\")\n",
    "        if last_position == curr_position:\n",
    "            scroll_attempt += 1\n",
    "            \n",
    "            # end of scroll region\n",
    "            if scroll_attempt >= 3:\n",
    "                scrolling = False\n",
    "                break\n",
    "            else:\n",
    "                sleep(3) # attempt another scroll\n",
    "        else:\n",
    "            last_position = curr_position\n",
    "            break\n",
    "\n",
    "# close the web driver\n",
    "driver.close()"
   ]
  },
  {
   "source": [
    "## Saving\n",
    "### Store scraped data in above cell into csv-file named according to the inserted searchterm\n",
    "---\n",
    "Executing this cell, will create a csv-file named according to the searchterm that was inserted before and save it into the directory the jupyter file is saved in."
   ],
   "cell_type": "markdown",
   "metadata": {}
  },
  {
   "cell_type": "code",
   "execution_count": null,
   "metadata": {},
   "outputs": [],
   "source": [
    "with open(f\"scraped_'{searchterm}'.csv\", 'w', newline='', encoding='utf-8') as outfile:\n",
    "    header = ['Username', 'Handle', 'Timestamp', 'Text', 'Comments', 'Likes', 'Retweets']\n",
    "    writer = csv.writer(outfile)\n",
    "    writer.writerow(header)\n",
    "    writer.writerows(data) "
   ]
  }
 ]
}